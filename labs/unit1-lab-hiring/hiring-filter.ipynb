{
 "cells": [
  {
   "cell_type": "markdown",
   "metadata": {},
   "source": [
    "## Lab 1: A First-Pass Hiring Filter\n",
    "\n",
    "*Lab adapted from an exercise developed by [Evan Peck](https://www.eg.bucknell.edu/~emp017/)*\n",
    "\n",
    "### Scenario ###\n",
    "\n",
    "Imagine you are working for *Moogle*, a well-known tech company that receives tens of thousands of job applications from graduating seniors every year.\n",
    "\n",
    "Since the company receives too many job applications for HR to individually assess in a reasonable amount of time, you are asked to create a program that algorithmically analyzes applications and selects the ones most worth passing onto HR.\n",
    "\n",
    "[Sound](https://qz.com/1427621/companies-are-on-the-hook-if-their-hiring-algorithms-are-biased/) [familiar](https://mashable.com/article/amazon-sexist-recruiting-algorithm-gender-bias-ai/)?\n",
    "\n",
    "### Applicant Data\n",
    "\n",
    "It's difficult to create these first-pass cuts, so *Moogle* designs their application forms to get some numerical data about their applicants' education. Job applications must enter the grades they received in 6 core CS courses, as well as their overall GPA. For your convenience, this will be stored in a python `list` that you can access. (For more on Python lists, see [this notebook](../lists.ipynb).)\n",
    "\n",
    "For example, a student who received the following scores...\n",
    "\n",
    "- **Intro to CS:** 100\n",
    "- **Data Structures:** 95\n",
    "- **Software Engineering:** 80\n",
    "- **Algorithms:** 89\n",
    "- **Computer Organization:** 91\n",
    "- **Operative Systems:** 75\n",
    "- **Overall College GPA:** 83\n",
    "\n",
    "... would result in the following list: `[100, 95, 80, 89, 91, 75, 83]`. \n",
    "\n",
    "You can assume that index `0` is *always* Intro to CS, `1` is *always* Data Structures, and so on.\n",
    "\n",
    "Because you are processing many applications, your program will receive a *list of lists*. For example, this would be the information for 3 applicants:\n",
    "\n",
    "`[ \n",
    "    [100, 95, 80, 89, 91, 75, 83], \n",
    "    [75, 80, 85, 90, 85, 88, 90], \n",
    "    [85, 70, 99, 100, 81, 82, 91] \n",
    " ]`"
   ]
  },
  {
   "cell_type": "markdown",
   "metadata": {},
   "source": [
    "### Your Task \n",
    "Your task is to:\n",
    "1. Determine how you are going to select the top applicants to pass onto HR.\n",
    "2. Given a list of applicant data (a *list of lists*), write a function returns a new list of worthwhile candidates."
   ]
  },
  {
   "cell_type": "markdown",
   "metadata": {},
   "source": [
    "### The Data\n",
    "We'll be working with two datasets for this task. The first is `example_list`, which we can load just below:"
   ]
  },
  {
   "cell_type": "code",
   "execution_count": null,
   "metadata": {},
   "outputs": [],
   "source": [
    "example_list = [[93, 89, 63, 88, 60, 73, 80], [100, 63, 57, 96, 58, 71, 78], [81, 91, 99, 78, 57, 87, 86], [81, 73, 100, 57, 91, 60, 66], [86, 89, 64, 81, 69, 93, 92], [78, 63, 88, 95, 59, 98, 90], [55, 74, 68, 55, 69, 94, 80], [64, 77, 75, 92, 77, 72, 83], [95, 58, 92, 62, 77, 64, 59], [94, 78, 84, 83, 68, 63, 76]]\n",
    "\n",
    "example_list"
   ]
  },
  {
   "cell_type": "markdown",
   "metadata": {},
   "source": [
    "The second is a larger dataset, which contains a list of ten-thousand randomly generated applicants. It's stored in a standalone file, which we'll use once we've gotten something working. We can load it as follows:"
   ]
  },
  {
   "cell_type": "code",
   "execution_count": null,
   "metadata": {},
   "outputs": [],
   "source": [
    "%load allApps.py\n"
   ]
  },
  {
   "cell_type": "code",
   "execution_count": null,
   "metadata": {},
   "outputs": [],
   "source": [
    "# just check to see what it looks like\n",
    "\n",
    "allApps"
   ]
  },
  {
   "cell_type": "markdown",
   "metadata": {},
   "source": [
    "### The Code\n",
    "\n",
    "I've prepared a some code that, given all of the applicant data, returns the most qualified applications according to a particular criteria. \n",
    "\n",
    "To begin, let's make our criteria: has an overall college GPA of above 80.\n",
    "\n",
    "For our data, we'll use `example_list` to start out. \n",
    "\n",
    "Remember the format of each app:\n",
    "\n",
    "`[0]` - Intro to CS: 100\n",
    "\n",
    "`[1]` - Data Structures: 95\n",
    "\n",
    "`[2]` - Software Engineering: 80\n",
    "\n",
    "`[3]` - Algorithms: 89\n",
    "\n",
    "`[4]` - Computer Organization: 91\n",
    "\n",
    "`[5]` - Operative Systems: 75\n",
    "\n",
    "`[6]` - Overall College GPA: 83"
   ]
  },
  {
   "cell_type": "code",
   "execution_count": null,
   "metadata": {},
   "outputs": [],
   "source": [
    "finalists = list() # create a list to hold the finalists -- the ones that meet our standard\n",
    "\n",
    "for app in example_list: # this iterates through each of the apps in the example_list\n",
    "    if app[6] > 80: # remember that the 6th item in the list is the overall college GPA\n",
    "        finalists += [app] # add the app to the finalist lists \n",
    "\n",
    "finalists"
   ]
  },
  {
   "cell_type": "markdown",
   "metadata": {},
   "source": [
    "So that gives us four applicants that make the first cut. Now let's try a few more methods of winnowing the pack. Below, complete the code to return all applicants that have no grade below 65."
   ]
  },
  {
   "cell_type": "code",
   "execution_count": null,
   "metadata": {},
   "outputs": [],
   "source": [
    "finalists = list() # create a list to hold the finalists -- the ones that meet our standard\n",
    "\n",
    "for app in example_list: # this iterates through each of the apps in the example_list\n",
    "    if app[0] >= 65 and # ... complete this if statement :\n",
    "        finalists += [app]\n",
    "        \n",
    "finalists"
   ]
  },
  {
   "cell_type": "markdown",
   "metadata": {},
   "source": [
    "Now let's try a filter where we accept applicants that have at least 4 grades ABOVE 85."
   ]
  },
  {
   "cell_type": "code",
   "execution_count": null,
   "metadata": {},
   "outputs": [],
   "source": [
    "finalists = list() # create a list to hold the finalists -- the ones that meet our standard\n",
    "\n",
    "for app in example_list: # this iterates through each of the apps in the example_list\n",
    "\n",
    "    # your code here! \n",
    "    # hint: you might want to start with a counter \n",
    "            \n",
    "finalists"
   ]
  },
  {
   "cell_type": "markdown",
   "metadata": {},
   "source": [
    "Let's do one more: filter applicants that have an average grade above 80. "
   ]
  },
  {
   "cell_type": "code",
   "execution_count": null,
   "metadata": {},
   "outputs": [],
   "source": [
    "finalists = list() # create a list to hold the finalists -- the ones that meet our standard\n",
    "\n",
    "for app in example_list: # this iterates through each of the apps in the example_list\n",
    "\n",
    "    # your code here! \n",
    "            \n",
    "finalists"
   ]
  },
  {
   "cell_type": "markdown",
   "metadata": {},
   "source": [
    "After writing, testing, and considering the tradeoffs of these four methods, write your own criteria in the cell below.\n",
    "\n",
    "First test it on the `example_list` data. When you've got it working, try it again with the `allApps` data. "
   ]
  },
  {
   "cell_type": "code",
   "execution_count": null,
   "metadata": {},
   "outputs": [],
   "source": [
    "finalists = list() # create a list to hold the finalists -- the ones that meet our standard\n",
    "\n",
    "for app in example_list: # replace example_list with allApps when you've got your filter working\n",
    "    \n",
    "    # your criteria here\n",
    "            \n",
    "finalists"
   ]
  },
  {
   "cell_type": "markdown",
   "metadata": {},
   "source": [
    "### Questions to consider\n",
    "\n",
    "1. What criteria did you choose to select finalists? How did you choose that criteria?\n",
    "\n",
    "\n",
    "2. Roughly what percentage of applicants does your algorithm pass on as finalists? Is that enough? If _Moogle_ asked you to take a more aggressive approach with your algorithm, are there any tradeoffs?\n"
   ]
  },
  {
   "cell_type": "code",
   "execution_count": null,
   "metadata": {},
   "outputs": [],
   "source": [
    "# some code to help you calculate the percentage of finalists your algorithm kept\n",
    "\n",
    "for finalist in finalists:\n",
    "    print(finalist)\n",
    "print(\"Your algorithm kept\", round(len(finalists)/len(allApps)*100), \"percent of applicants\")"
   ]
  }
 ],
 "metadata": {
  "kernelspec": {
   "display_name": "Python 3",
   "language": "python",
   "name": "python3"
  },
  "language_info": {
   "codemirror_mode": {
    "name": "ipython",
    "version": 3
   },
   "file_extension": ".py",
   "mimetype": "text/x-python",
   "name": "python",
   "nbconvert_exporter": "python",
   "pygments_lexer": "ipython3",
   "version": "3.7.2"
  }
 },
 "nbformat": 4,
 "nbformat_minor": 2
}
